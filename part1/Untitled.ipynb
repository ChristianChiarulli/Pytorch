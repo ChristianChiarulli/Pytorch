{
 "cells": [
  {
   "cell_type": "markdown",
   "metadata": {},
   "source": [
    "# Linear Regression with Pytorch\n",
    "****\n",
    "## 1. About Linear Regression\n",
    "\n",
    "### 1.1 Simple Linear Regression Basics\n",
    "\n",
    "* Allows us to understand **relationship** between two **continous variables**\n",
    "\n",
    "* Example:\n",
    "    * x: independent variable\n",
    "        * weight\n",
    "    * y dependent variable\n",
    "        * height\n",
    "        \n",
    "* $y=\\alpha x+\\beta$\n",
    "\n",
    "A simple relationship when weight increases we would expect that person on average to be taller\n"
   ]
  },
  {
   "cell_type": "markdown",
   "metadata": {},
   "source": [
    "### 1.2 Example of simple linear regression"
   ]
  },
  {
   "cell_type": "code",
   "execution_count": 10,
   "metadata": {},
   "outputs": [
    {
     "data": {
      "image/png": "[encoded data removed]",
      "text/plain": [
       "<Figure size 432x288 with 1 Axes>"
      ]
     },
     "metadata": {
      "needs_background": "light"
     },
     "output_type": "display_data"
    }
   ],
   "source": [
    "# ignore this code block its only for demonstration\n",
    "import numpy as np\n",
    "import matplotlib.pyplot as plt\n",
    "\n",
    "np.random.seed(1)\n",
    "n = 50\n",
    "x = np.random.randn(n)\n",
    "y = x * np.random.randn(n)\n",
    "\n",
    "colors = np.random.randn(n)\n",
    "plt.plot(np.unique(x), np.poly1d(np.polyfit(x, y, 1))(np.unique(x)))\n",
    "\n",
    "plt.scatter(x, y, c=colors, alpha=0.5)\n",
    "plt.show()"
   ]
  },
  {
   "cell_type": "markdown",
   "metadata": {},
   "source": [
    "### 1.3 Aim of linear Regression\n",
    "\n",
    "* Minimize the distance between the points and the line: $y=\\alpha x+\\beta$\n",
    "\n",
    "* Adjusting\n",
    "    * Coefficient: $\\alpha$\n",
    "    * Bias/Intercept: $\\beta$"
   ]
  },
  {
   "cell_type": "code",
   "execution_count": null,
   "metadata": {},
   "outputs": [],
   "source": []
  },
  {
   "cell_type": "markdown",
   "metadata": {},
   "source": [
    "* Adjusting \n",
    "    * coefficient: $\\alpha=2$\n",
    "    * Bias/Intercept: $\\beta=1$\n",
    "    * Equation: $y=2x+1$"
   ]
  },
  {
   "cell_type": "code",
   "execution_count": null,
   "metadata": {},
   "outputs": [],
   "source": []
  }
 ],
 "metadata": {
  "kernelspec": {
   "display_name": "Python 3",
   "language": "python",
   "name": "python3"
  },
  "language_info": {
   "codemirror_mode": {
    "name": "ipython",
    "version": 3
   },
   "file_extension": ".py",
   "mimetype": "text/x-python",
   "name": "python",
   "nbconvert_exporter": "python",
   "pygments_lexer": "ipython3",
   "version": "3.7.1"
  }
 },
 "nbformat": 4,
 "nbformat_minor": 2
}
